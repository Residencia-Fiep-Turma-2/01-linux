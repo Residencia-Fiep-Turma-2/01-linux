{
 "cells": [
  {
   "cell_type": "markdown",
   "metadata": {},
   "source": [
    "### 9) \n",
    "Se o valor gasto por um cliente em um determinado dia for maior ou igual à 2x despesa mediana do cliente por um número final de dias, isso é considerado uma fraude potencial e um alerta é emitido.\n",
    "\n",
    "Dado o número de dias finais e as despesas diárias totais de um cliente por um período de dias, localize e imprima o número de vezes que o cliente receberá uma notificação durante todos os dias.\n",
    "\n",
    "Por exemplo, d=3 e gastos = [10,20,30,40,50] Nos três primeiros dias, eles apenas coletam dados de gastos. No dia 4 temos gastos finais [10,20,30] A mediana é 20 e a despesa do dia é 40. 40 é maior ou igual a 2x20 portanto haverá uma notificação de possível fraude No dia 5 os gastos são [20,30,40] a mediana é 30x2 que é igual a 60 e o gasto é 50 que é menor que 60, portanto nao haverá notificação de fraude\n",
    "\n",
    "Faça um script bash que recebe a movimentação em um arquivo texto e o valor d como parâmetro e retorno quantas notificações o cliente receberá Crie ao menos 3 arquivos de entrada de movimentação"
   ]
  },
  {
   "cell_type": "markdown",
   "metadata": {},
   "source": [
    "## SEM ARQUIVO DE TEXTO"
   ]
  },
  {
   "cell_type": "code",
   "execution_count": null,
   "metadata": {},
   "outputs": [],
   "source": [
    "d = 3\n",
    "gastos = [10, 20, 30, 40, 50]\n",
    "inicio = 0\n",
    "fim = d\n",
    "diaria = d-1\n",
    "fraude = 0\n",
    "    \n",
    "for i in range(len(gastos)-(d-1)):\n",
    "    sub_gastos = gastos[inicio:fim]\n",
    "    inicio += 1\n",
    "    fim +=1\n",
    "    print(sub_gastos)\n",
    "    \n",
    "    #cálculo mediana\n",
    "    if d%2 == 0:\n",
    "        index1 = int(d/2-1)\n",
    "        index2 = int(d/2)\n",
    "        valor_index1 = sub_gastos[index1]\n",
    "        valor_index2 = sub_gastos[index2]\n",
    "        mediana = (valor_index1 + valor_index2)/2\n",
    "    else:\n",
    "        index1 = int((d-1)/2)\n",
    "        mediana = sub_gastos[index1]\n",
    "    \n",
    "    print(mediana)\n",
    "    \n",
    "    if diaria < len(gastos)-1:\n",
    "        diaria += 1\n",
    "        despeca_dia = gastos[diaria]\n",
    "        print(despeca_dia)\n",
    "    else:\n",
    "        despeca_dia = 0\n",
    "        \n",
    "    #notificação\n",
    "    if despeca_dia >= 2 * mediana:\n",
    "        fraude += 1\n",
    "        print(f'Número de fraudes: {fraude}')\n",
    "    else:\n",
    "        print(f'Dessa vez não foi fraude, parabéns')"
   ]
  },
  {
   "cell_type": "markdown",
   "metadata": {},
   "source": [
    "## COM ARQUIVO DE TEXTO"
   ]
  },
  {
   "cell_type": "code",
   "execution_count": 1,
   "metadata": {
    "scrolled": true
   },
   "outputs": [
    {
     "name": "stdout",
     "output_type": "stream",
     "text": [
      "Gastos em forma de string: ['10', '20', '30', '40', '50']\n",
      "Gastos em forma de vetor de inteiros: [10, 20, 30, 40, 50]\n",
      "Digite o periodo de dias, 'd': 3\n",
      "\n",
      "\n",
      "Sub-vetor com comprimento 'd': [10, 20, 30]\n",
      "Mediana do vetor sub-gastos: 20\n",
      "Despeça do dia: 40\n",
      "Número de fraudes: 1\n",
      "Sub-vetor com comprimento 'd': [20, 30, 40]\n",
      "Mediana do vetor sub-gastos: 30\n",
      "Despeça do dia: 50\n",
      "Dessa vez não foi fraude, parabéns\n"
     ]
    }
   ],
   "source": [
    "arquivo = open('ex9python.txt', 'r')\n",
    "string_gastos = arquivo.read()\n",
    "arquivo.close()\n",
    "\n",
    "split_gastos = string_gastos.split('\\n')\n",
    "print(f'Gastos em forma de string: {split_gastos}')\n",
    "\n",
    "gastos = []\n",
    "for elemento in split_gastos:\n",
    "    elem = int(elemento)\n",
    "    gastos.append(elem)\n",
    "\n",
    "print(f'Gastos em forma de vetor de inteiros: {gastos}')  \n",
    "\n",
    "\n",
    "d = int(input(\"Digite o periodo de dias, 'd': \"))\n",
    "print(\"\\n\")\n",
    "inicio = 0\n",
    "fim = d\n",
    "diaria = d-1\n",
    "fraude = 0\n",
    "    \n",
    "for i in range(len(gastos)-(d)):\n",
    "    sub_gastos = gastos[inicio:fim]\n",
    "    inicio += 1\n",
    "    fim +=1\n",
    "    print(f\"Sub-vetor com comprimento 'd': {sub_gastos}\")\n",
    "    \n",
    "    #Cálculo da mediana:\n",
    "    if d%2 == 0:\n",
    "        index1 = int(d/2-1)\n",
    "        index2 = int(d/2)\n",
    "        valor_index1 = sub_gastos[index1]\n",
    "        valor_index2 = sub_gastos[index2]\n",
    "        mediana = (valor_index1 + valor_index2)/2\n",
    "    else:\n",
    "        index1 = int((d-1)/2)\n",
    "        mediana = sub_gastos[index1]\n",
    "    \n",
    "    print(f'Mediana do vetor sub-gastos: {mediana}')\n",
    "    \n",
    "    #Despeça diária:\n",
    "    if diaria < len(gastos)-1:\n",
    "        diaria += 1\n",
    "        despeca_dia = gastos[diaria]\n",
    "        print(f'Despeça do dia: {despeca_dia}')\n",
    "    else:\n",
    "        despeca_dia = 0\n",
    "        \n",
    "    #Notificação\n",
    "    if despeca_dia >= 2 * mediana:\n",
    "        fraude += 1\n",
    "        print(f'Número de fraudes: {fraude}')\n",
    "    else:\n",
    "        print(f'Dessa vez não foi fraude, parabéns')"
   ]
  },
  {
   "cell_type": "markdown",
   "metadata": {},
   "source": [
    "## 10)\n",
    "Para duas cadeias A e B, definimos a similaridade das cadeias como sendo o comprimento do prefixo mais longo comum a ambas as cadeias. Por exemplo, a similaridade das cadeias \"abc\" e \"abd\" é 2, enquanto a similaridade das cadeias \"aaa\" e \"aaab\" é 3.\n",
    "\n",
    "Crie um script bash que implementa essa função de similaridade Invente uma outra métrica de obter similaridade de strings e faça uma análise comparativa usando uma mesma entrada"
   ]
  },
  {
   "cell_type": "code",
   "execution_count": 38,
   "metadata": {},
   "outputs": [
    {
     "name": "stdout",
     "output_type": "stream",
     "text": [
      "Digite a string 'A':\n",
      "abcde\n",
      "Digite a string 'B':\n",
      "abcdef\n",
      "String 'A' transformada em lista: ['a', 'b', 'c', 'd', 'e']\n",
      "String 'B' transformada em lista: ['a', 'b', 'c', 'd', 'e', 'f']\n",
      "Similaridade do exercício: 5\n",
      "Comprimento menor: 5\n",
      "Comprimento maior: 6\n",
      "Similaridade inventada entre a e b: 83.33333333333333%\n"
     ]
    }
   ],
   "source": [
    "print(\"Digite a string 'A':\")\n",
    "A = input()\n",
    "print(\"Digite a string 'B':\")\n",
    "B = input()\n",
    "\n",
    "a = []\n",
    "for i in range(len(A)):\n",
    "    letra = A[i:i+1]\n",
    "    a.append(letra)\n",
    "print(f\"String 'A' transformada em lista: {a}\")\n",
    "\n",
    "b = []\n",
    "for i in range(len(B)):\n",
    "    letra = B[i:i+1]\n",
    "    b.append(letra)\n",
    "print(f\"String 'B' transformada em lista: {b}\")    \n",
    "\n",
    "#Métrica proposta no exercício:\n",
    "\n",
    "comprimento_a = len(a)\n",
    "comprimento_b = len(b)\n",
    "\n",
    "if comprimento_a > comprimento_b:\n",
    "    comprimento = comprimento_b\n",
    "else:\n",
    "    comprimento = comprimento_a\n",
    "\n",
    "similaridade = 0\n",
    "\n",
    "for i in range(comprimento):\n",
    "    if a[i] == b[i]:\n",
    "        similaridade += 1\n",
    "\n",
    "print(f'Similaridade do exercício: {similaridade}')\n",
    "\n",
    "#Outra métrica para obter similaridade:\n",
    "\n",
    "if comprimento_a > comprimento_b:\n",
    "    comprimento_mayor = comprimento_a\n",
    "    comprimento_menor = comprimento_b\n",
    "    print(f'Comprimento menor: {comprimento_menor}')\n",
    "    print(f'Comprimento maior: {comprimento_mayor}')\n",
    "    \n",
    "    print(f'Similaridade inventada entre a e b: {similaridade*100/comprimento_mayor}%')\n",
    "\n",
    "elif comprimento_a < comprimento_b:\n",
    "    comprimento_menor = comprimento_a\n",
    "    comprimento_mayor = comprimento_b\n",
    "    print(f'Comprimento menor: {comprimento_menor}')\n",
    "    print(f'Comprimento maior: {comprimento_mayor}')\n",
    "    \n",
    "    print(f'Similaridade inventada entre a e b: {similaridade*100/comprimento_mayor}%')\n",
    "else:    \n",
    "    comprimento_menor = comprimento_a\n",
    "    comprimento_mayor = comprimento_a\n",
    "    print(f'Comprimentos de ambas strings iguais: {comprimento_menor}')\n",
    "    \n",
    "    print(f'Similaridade inventada entre a e b: {similaridade*100/comprimento_mayor}%')\n",
    "\n"
   ]
  }
 ],
 "metadata": {
  "kernelspec": {
   "display_name": "Python 3",
   "language": "python",
   "name": "python3"
  },
  "language_info": {
   "codemirror_mode": {
    "name": "ipython",
    "version": 3
   },
   "file_extension": ".py",
   "mimetype": "text/x-python",
   "name": "python",
   "nbconvert_exporter": "python",
   "pygments_lexer": "ipython3",
   "version": "3.8.2"
  }
 },
 "nbformat": 4,
 "nbformat_minor": 4
}
